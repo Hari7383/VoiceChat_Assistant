{
 "cells": [
  {
   "cell_type": "code",
   "execution_count": 1,
   "id": "37b22946-e5f7-45d8-a88c-5c1fbdbf8f93",
   "metadata": {},
   "outputs": [
    {
     "name": "stdout",
     "output_type": "stream",
     "text": [
      "Requirement already satisfied: pyaudio in d:\\anaconda\\lib\\site-packages (0.2.14)\n",
      "Note: you may need to restart the kernel to use updated packages.\n"
     ]
    }
   ],
   "source": [
    "pip install pyaudio"
   ]
  },
  {
   "cell_type": "code",
   "execution_count": 2,
   "id": "abb83fbb-a480-4d7f-a1d9-2c0f6716b99e",
   "metadata": {},
   "outputs": [
    {
     "name": "stdout",
     "output_type": "stream",
     "text": [
      "Requirement already satisfied: SpeechRecognition in d:\\anaconda\\lib\\site-packages (3.10.4)\n",
      "Requirement already satisfied: requests>=2.26.0 in d:\\anaconda\\lib\\site-packages (from SpeechRecognition) (2.32.2)\n",
      "Requirement already satisfied: typing-extensions in d:\\anaconda\\lib\\site-packages (from SpeechRecognition) (4.11.0)\n",
      "Requirement already satisfied: charset-normalizer<4,>=2 in d:\\anaconda\\lib\\site-packages (from requests>=2.26.0->SpeechRecognition) (2.0.4)\n",
      "Requirement already satisfied: idna<4,>=2.5 in d:\\anaconda\\lib\\site-packages (from requests>=2.26.0->SpeechRecognition) (3.7)\n",
      "Requirement already satisfied: urllib3<3,>=1.21.1 in d:\\anaconda\\lib\\site-packages (from requests>=2.26.0->SpeechRecognition) (2.2.2)\n",
      "Requirement already satisfied: certifi>=2017.4.17 in d:\\anaconda\\lib\\site-packages (from requests>=2.26.0->SpeechRecognition) (2024.7.4)\n",
      "Note: you may need to restart the kernel to use updated packages.\n"
     ]
    }
   ],
   "source": [
    "pip install SpeechRecognition"
   ]
  },
  {
   "cell_type": "code",
   "execution_count": null,
   "id": "82f7284a-45e0-4e58-b368-b566a89a5daa",
   "metadata": {},
   "outputs": [],
   "source": [
    "!pip install requests google-generativeai"
   ]
  },
  {
   "cell_type": "code",
   "execution_count": 18,
   "id": "36d87895-e268-4e46-8138-edc81780597a",
   "metadata": {},
   "outputs": [
    {
     "name": "stdout",
     "output_type": "stream",
     "text": [
      "Collecting pyttsx3\n",
      "  Downloading pyttsx3-2.91-py3-none-any.whl.metadata (3.8 kB)\n",
      "Collecting comtypes (from pyttsx3)\n",
      "  Downloading comtypes-1.4.6-py3-none-any.whl.metadata (6.4 kB)\n",
      "Collecting pypiwin32 (from pyttsx3)\n",
      "  Downloading pypiwin32-223-py3-none-any.whl.metadata (236 bytes)\n",
      "Requirement already satisfied: pywin32 in d:\\anaconda\\lib\\site-packages (from pyttsx3) (305.1)\n",
      "Downloading pyttsx3-2.91-py3-none-any.whl (33 kB)\n",
      "Downloading comtypes-1.4.6-py3-none-any.whl (222 kB)\n",
      "   ---------------------------------------- 0.0/222.1 kB ? eta -:--:--\n",
      "   ----- ---------------------------------- 30.7/222.1 kB ? eta -:--:--\n",
      "   ---------------- ----------------------- 92.2/222.1 kB 1.3 MB/s eta 0:00:01\n",
      "   ---------------------- ----------------- 122.9/222.1 kB 1.0 MB/s eta 0:00:01\n",
      "   ----------------------------- ---------- 163.8/222.1 kB 1.2 MB/s eta 0:00:01\n",
      "   ---------------------------------------- 222.1/222.1 kB 1.0 MB/s eta 0:00:00\n",
      "Downloading pypiwin32-223-py3-none-any.whl (1.7 kB)\n",
      "Installing collected packages: pypiwin32, comtypes, pyttsx3\n",
      "Successfully installed comtypes-1.4.6 pypiwin32-223 pyttsx3-2.91\n",
      "Note: you may need to restart the kernel to use updated packages.\n"
     ]
    }
   ],
   "source": [
    "pip install pyttsx3"
   ]
  },
  {
   "cell_type": "code",
   "execution_count": 5,
   "id": "07002910-55f6-4e5f-8298-cbfb963e0c04",
   "metadata": {},
   "outputs": [
    {
     "name": "stdout",
     "output_type": "stream",
     "text": [
      "Listening...\n",
      "Recognizing...\n",
      "You said: can you speak with me in Tamil language\n",
      "சர எனககத தமழ நலலப பச வரத நன இனனம கறறககணடரககறன ஆனல உஙகள களவகளககப பதலளகக மயறச சயய வரமபகறன  \n",
      "\n",
      "Sorry I dont speak Tamil very well Im still learning However Id love to try and answer your questions \n",
      "\n",
      "Do you want to try asking me something in simple Tamil or English  Im always eager to learn more  \n",
      "\n"
     ]
    }
   ],
   "source": [
    "import re  # use to remove emojis\n",
    "import pyttsx3 #text to audio\n",
    "import requests\n",
    "import speech_recognition as sr #audio to text\n",
    "from google.generativeai import GenerativeModel,configure\n",
    "\n",
    "# audio to text\n",
    "r = sr.Recognizer()\n",
    "\n",
    "with sr.Microphone() as source:\n",
    "    print(\"Listening...\")\n",
    "    audio = r.listen(source)\n",
    "try:\n",
    "    print(\"Recognizing...\")\n",
    "    text = r.recognize_google(audio)\n",
    "    print(\"You said:\", text)\n",
    "except sr.UnknownValueError:\n",
    "    print(\"Sorry, I could not understand your speech.\")\n",
    "except sr.RequestError as e:\n",
    "    print(\"Sorry, an error occurred. {0}\".format(e))\n",
    "\n",
    "#Voice_Chatbot using Gemini API\n",
    "configure(api_key=\"Replace-With-Your-API_KEY\")\n",
    "model = GenerativeModel(\"gemini-1.5-pro\")\n",
    "response = model.generate_content(text)\n",
    "\n",
    "#remove emojis\n",
    "r_emojis = re.sub(r'[^\\w\\s]', '', response.text)\n",
    "print(r_emojis) #to print text format\n",
    "\n",
    "#text to audio converting\n",
    "engine = pyttsx3.init()\n",
    "engine.say(r_emojis)\n",
    "engine.runAndWait()"
   ]
  }
 ],
 "metadata": {
  "kernelspec": {
   "display_name": "Python 3 (ipykernel)",
   "language": "python",
   "name": "python3"
  },
  "language_info": {
   "codemirror_mode": {
    "name": "ipython",
    "version": 3
   },
   "file_extension": ".py",
   "mimetype": "text/x-python",
   "name": "python",
   "nbconvert_exporter": "python",
   "pygments_lexer": "ipython3",
   "version": "3.12.4"
  }
 },
 "nbformat": 4,
 "nbformat_minor": 5
}
